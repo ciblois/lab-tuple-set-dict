{
 "cells": [
  {
   "cell_type": "markdown",
   "metadata": {},
   "source": [
    "## Challenge 2: Sets\n",
    "\n",
    "There are a lot to learn about Python Sets and the information presented in the lesson is limited due to its length. To learn Python Sets in depth you are strongly encouraged to review the W3Schools tutorial on [Python Sets Examples and Methods](https://www.w3schools.com/python/python_sets.asp) before you work on this lab. Some difficult questions in this lab have their solutions in the W3Schools tutorial.\n",
    "\n",
    "#### First, import the Python `random` libary"
   ]
  },
  {
   "cell_type": "code",
   "execution_count": 244,
   "metadata": {},
   "outputs": [],
   "source": [
    "import random"
   ]
  },
  {
   "cell_type": "markdown",
   "metadata": {},
   "source": [
    "#### 1 - In the cell below, create a list named `sample_list_1` with 80 random values. \n",
    "\n",
    "Requirements:\n",
    "\n",
    "* Each value is an integer falling between 0 and 100.\n",
    "* Each value in the list is unique.\n",
    "\n",
    "Print `sample_list_1` to review its values\n",
    "\n",
    "*Hint: use `random.sample` ([reference](https://docs.python.org/3/library/random.html#random.sample)).*"
   ]
  },
  {
   "cell_type": "code",
   "execution_count": 245,
   "metadata": {},
   "outputs": [
    {
     "output_type": "stream",
     "name": "stdout",
     "text": [
      "[62, 59, 54, 0, 50, 30, 27, 6, 97, 28, 88, 75, 63, 23, 99, 38, 85, 44, 70, 68, 16, 47, 20, 34, 89, 3, 67, 32, 78, 46, 42, 58, 45, 83, 74, 57, 51, 76, 66, 39, 18, 13, 52, 49, 15, 84, 56, 100, 8, 82, 96, 25, 26, 94, 91, 19, 92, 4, 17, 81, 69, 9, 60, 95, 11, 31, 24, 77, 35, 41, 10, 61, 55, 36, 93, 48, 21, 22, 79, 33]\n"
     ]
    }
   ],
   "source": [
    "# Your code here\n",
    "#sample_list_1 = []\n",
    "#size = 80 # size of the list\n",
    "\n",
    "#Generate the list\n",
    "#for i in range(0,size):\n",
    "#    number = random.randint(0,100)\n",
    "#    if number not in sample_list_1:\n",
    "#        sample_list_1.append(number)\n",
    "#    i+=1\n",
    "\n",
    "def generate_number_uniques(size,random_initial,random_final):\n",
    "    \"\"\"\"\n",
    "    this function created a list with uniques values\n",
    "\n",
    "    the input are the size of the list you want and the range of random numbers (initial and final)\n",
    "    \"\"\"\n",
    "    out_list = []\n",
    "    for i in range(0,size):\n",
    "        number = random.randint(random_initial,random_final)\n",
    "        while number in out_list:\n",
    "            number = random.randint(random_initial,random_final)\n",
    "        out_list.append(number)\n",
    "    return out_list\n",
    "\n",
    "sample_list_1 = generate_number_uniques(80,0,100)\n",
    "print(sample_list_1)\n",
    "#print(len(sample_list_1))"
   ]
  },
  {
   "cell_type": "markdown",
   "metadata": {},
   "source": [
    "#### 2 - Convert `sample_list_1` to a set called `set1`. Print the length of the set. Is its length still 80?"
   ]
  },
  {
   "cell_type": "code",
   "execution_count": 246,
   "metadata": {},
   "outputs": [
    {
     "output_type": "stream",
     "name": "stdout",
     "text": [
      "The size is equal because set eliminates repetead numbers and this list avoid repetition\n 80 elements and the set is \n {0, 3, 4, 6, 8, 9, 10, 11, 13, 15, 16, 17, 18, 19, 20, 21, 22, 23, 24, 25, 26, 27, 28, 30, 31, 32, 33, 34, 35, 36, 38, 39, 41, 42, 44, 45, 46, 47, 48, 49, 50, 51, 52, 54, 55, 56, 57, 58, 59, 60, 61, 62, 63, 66, 67, 68, 69, 70, 74, 75, 76, 77, 78, 79, 81, 82, 83, 84, 85, 88, 89, 91, 92, 93, 94, 95, 96, 97, 99, 100}\n"
     ]
    }
   ],
   "source": [
    "# Your code here\n",
    "set1 = set(sample_list_1)\n",
    "\n",
    "size_set1 = len(set1)\n",
    "print(\"The size is equal because set eliminates repetead numbers and this list avoid repetition\\n\",size_set1, \"elements and the set is \\n\", set1)"
   ]
  },
  {
   "cell_type": "markdown",
   "metadata": {},
   "source": [
    "#### 3 - Create another list named `sample_list_2` with 80 random values.\n",
    "\n",
    "Requirements:\n",
    "\n",
    "* Each value is an integer falling between 0 and 100.\n",
    "* The values in the list don't have to be unique.\n",
    "\n",
    "*Hint: Use a FOR loop.*"
   ]
  },
  {
   "cell_type": "code",
   "execution_count": 247,
   "metadata": {},
   "outputs": [
    {
     "output_type": "stream",
     "name": "stdout",
     "text": [
      "[95, 48, 78, 66, 47, 99, 12, 16, 11, 32, 26, 41, 78, 51, 1, 10, 92, 44, 44, 42, 82, 65, 38, 87, 90, 11, 34, 14, 53, 32, 4, 24, 45, 92, 50, 85, 85, 77, 18, 96, 95, 98, 40, 78, 82, 40, 80, 27, 82, 68, 36, 13, 90, 22, 6, 60, 97, 46, 62, 17, 58, 46, 64, 99, 67, 54, 8, 59, 44, 99, 74, 69, 56, 59, 82, 42, 75, 94, 31, 11]\n"
     ]
    }
   ],
   "source": [
    "# Your code here\n",
    "def generate_number(size,random_initial,random_final):\n",
    "    \"\"\"\"\n",
    "    this function created a list with some values, can repeated numbers\n",
    "\n",
    "    the input are the size of the list you want and the range of random numbers (initial and final)\n",
    "    \"\"\"\n",
    "    out_list = []\n",
    "    for i in range(0,size):\n",
    "        number = random.randint(random_initial,random_final)\n",
    "        out_list.append(number)\n",
    "    return out_list\n",
    "\n",
    "sample_list_2 = generate_number(80,0,100)\n",
    "print(sample_list_2)\n",
    "#print(len(sample_list_2))"
   ]
  },
  {
   "cell_type": "markdown",
   "metadata": {},
   "source": [
    "#### 4 - Convert `sample_list_2` to a set called `set2`. Print the length of the set. Is its length still 80?"
   ]
  },
  {
   "cell_type": "code",
   "execution_count": 248,
   "metadata": {},
   "outputs": [
    {
     "output_type": "stream",
     "name": "stdout",
     "text": [
      "The size is different because set eliminates repetead numbers:  60 elements and the set:  {1, 4, 6, 8, 10, 11, 12, 13, 14, 16, 17, 18, 22, 24, 26, 27, 31, 32, 34, 36, 38, 40, 41, 42, 44, 45, 46, 47, 48, 50, 51, 53, 54, 56, 58, 59, 60, 62, 64, 65, 66, 67, 68, 69, 74, 75, 77, 78, 80, 82, 85, 87, 90, 92, 94, 95, 96, 97, 98, 99}\n"
     ]
    }
   ],
   "source": [
    "# Your code here\n",
    "set2 = set(sample_list_2)\n",
    "\n",
    "size_set2 = len(set2)\n",
    "print(\"The size is different because set eliminates repetead numbers: \",size_set2, \"elements and the set: \", set2)"
   ]
  },
  {
   "cell_type": "markdown",
   "metadata": {},
   "source": [
    "#### 5 - Identify the elements present in `set1` but not in `set2`. Assign the elements to a new set named `set3`."
   ]
  },
  {
   "cell_type": "code",
   "execution_count": 249,
   "metadata": {},
   "outputs": [
    {
     "output_type": "stream",
     "name": "stdout",
     "text": [
      "{0, 3, 9, 15, 19, 20, 21, 23, 25, 28, 30, 33, 35, 39, 49, 52, 55, 57, 61, 63, 70, 76, 79, 81, 83, 84, 88, 89, 91, 93, 100}\n"
     ]
    }
   ],
   "source": [
    "def set_minus_set(set1,set2):\n",
    "    \"\"\"\n",
    "    This function return a set with the elements present in set1 but not in set2\n",
    "\n",
    "    The inputs are set 1 and set 2\n",
    "    \"\"\"\n",
    "    out_list = [] #output list with elements present in set 2 but not in set 1\n",
    "    for i in set1:\n",
    "        if (i in set1) and (i not in set2):\n",
    "            out_list.append(i)\n",
    "    return set(out_list) #return a set of the output list\n",
    "\n",
    "set3 = set_minus_set(set1,set2)\n",
    "print(set3)"
   ]
  },
  {
   "cell_type": "markdown",
   "metadata": {},
   "source": [
    "#### 6 - Identify the elements present in `set2` but not in `set1`. Assign the elements to a new set named `set4`."
   ]
  },
  {
   "cell_type": "code",
   "execution_count": 250,
   "metadata": {},
   "outputs": [
    {
     "output_type": "stream",
     "name": "stdout",
     "text": [
      "{64, 1, 65, 98, 40, 12, 14, 80, 53, 87, 90}\n"
     ]
    }
   ],
   "source": [
    "# Your code here\n",
    "set4 = set_minus_set(set2,set1)\n",
    "print(set4)\n"
   ]
  },
  {
   "cell_type": "markdown",
   "metadata": {},
   "source": [
    "#### 7 - Now Identify the elements shared between `set1` and `set2`. Assign the elements to a new set named `set5`."
   ]
  },
  {
   "cell_type": "code",
   "execution_count": 251,
   "metadata": {},
   "outputs": [
    {
     "output_type": "stream",
     "name": "stdout",
     "text": [
      "{4, 6, 8, 10, 11, 13, 16, 17, 18, 22, 24, 26, 27, 31, 32, 34, 36, 38, 41, 42, 44, 45, 46, 47, 48, 50, 51, 54, 56, 58, 59, 60, 62, 66, 67, 68, 69, 74, 75, 77, 78, 82, 85, 92, 94, 95, 96, 97, 99}\n"
     ]
    }
   ],
   "source": [
    "# Your code here\n",
    "def intersection(set1,set2):\n",
    "    \"\"\"\n",
    "    This function return a set with intersection between 2 sets\n",
    "\n",
    "    The inputs are set 1 and set 2\n",
    "    \"\"\"\n",
    "    out_list = []\n",
    "    for i in set1:\n",
    "        for j in set2:\n",
    "            if i == j:\n",
    "                out_list.append(i)\n",
    "    return set(out_list) #return a set of the output list\n",
    "\n",
    "set5 = intersection(set1,set2)\n",
    "print(set5)"
   ]
  },
  {
   "cell_type": "markdown",
   "metadata": {},
   "source": [
    "#### 8 - Create an empty set called `set6`."
   ]
  },
  {
   "cell_type": "code",
   "execution_count": 252,
   "metadata": {},
   "outputs": [],
   "source": [
    "# Your code here\n",
    "set6 = set()\n",
    "#print(set6)"
   ]
  },
  {
   "cell_type": "markdown",
   "metadata": {},
   "source": [
    "#### 9 - Add `set3` and `set5` to `set6` using the Python Set `update` method."
   ]
  },
  {
   "cell_type": "code",
   "execution_count": 253,
   "metadata": {},
   "outputs": [
    {
     "output_type": "stream",
     "name": "stdout",
     "text": [
      "{0, 3, 4, 6, 8, 9, 10, 11, 13, 15, 16, 17, 18, 19, 20, 21, 22, 23, 24, 25, 26, 27, 28, 30, 31, 32, 33, 34, 35, 36, 38, 39, 41, 42, 44, 45, 46, 47, 48, 49, 50, 51, 52, 54, 55, 56, 57, 58, 59, 60, 61, 62, 63, 66, 67, 68, 69, 70, 74, 75, 76, 77, 78, 79, 81, 82, 83, 84, 85, 88, 89, 91, 92, 93, 94, 95, 96, 97, 99, 100}\n"
     ]
    }
   ],
   "source": [
    "# Your code here\n",
    "set6.update(set3,set5)\n",
    "print(set6)"
   ]
  },
  {
   "cell_type": "markdown",
   "metadata": {},
   "source": [
    "#### 10 - Check if `set1` and `set6` are equal."
   ]
  },
  {
   "cell_type": "code",
   "execution_count": 254,
   "metadata": {},
   "outputs": [
    {
     "output_type": "stream",
     "name": "stdout",
     "text": [
      "True\n"
     ]
    }
   ],
   "source": [
    "# Your code here\n",
    "def equal_sets(set1,set2):\n",
    "    \"\"\"\n",
    "    This function check if set 1 and set2 are equal, if they are the function return TRUE otherwise return FALSE\n",
    "\n",
    "    The inputs are set 1 and set 2\n",
    "    \"\"\"\n",
    "    if len(set1) == len(set2):\n",
    "        out_text = True\n",
    "        for i in set1:\n",
    "            if i in set1 and i in set2:\n",
    "                continue\n",
    "            else:\n",
    "                out_text = False\n",
    "                break\n",
    "    else:\n",
    "        out_text = False\n",
    "    return out_text\n",
    "\n",
    "print(equal_sets(set1,set6))"
   ]
  },
  {
   "cell_type": "markdown",
   "metadata": {},
   "source": [
    "#### 11 - Check if `set1` contains `set2` using the Python Set `issubset` method. Then check if `set1` contains `set3`.*"
   ]
  },
  {
   "cell_type": "code",
   "execution_count": 255,
   "metadata": {},
   "outputs": [
    {
     "output_type": "stream",
     "name": "stdout",
     "text": [
      "False\nFalse\n"
     ]
    }
   ],
   "source": [
    "# Your code here\n",
    "if set2.issubset(set1) == True:\n",
    "    print(\"True\")\n",
    "else:\n",
    "    print(\"False\")\n",
    "\n",
    "if set1.issubset(set3) == True:\n",
    "    print(\"True\")\n",
    "else:\n",
    "    print(\"False\")"
   ]
  },
  {
   "cell_type": "markdown",
   "metadata": {},
   "source": [
    "#### 12 -Using the Python Set `union` method, aggregate `set3`, `set4`, and `set5`. Then aggregate `set1` and `set2`. \n",
    "\n",
    "#### Check if the aggregated values are equal."
   ]
  },
  {
   "cell_type": "code",
   "execution_count": 256,
   "metadata": {},
   "outputs": [
    {
     "output_type": "stream",
     "name": "stdout",
     "text": [
      "True\n"
     ]
    }
   ],
   "source": [
    "# Your code here\n",
    "print(equal_sets(set3.union(set4,set5),set1.union(set2)))"
   ]
  },
  {
   "cell_type": "markdown",
   "metadata": {},
   "source": [
    "#### 13 -Using the `pop` method, remove the first element from `set1`."
   ]
  },
  {
   "cell_type": "code",
   "execution_count": 257,
   "metadata": {},
   "outputs": [
    {
     "output_type": "stream",
     "name": "stdout",
     "text": [
      "{3, 4, 6, 8, 9, 10, 11, 13, 15, 16, 17, 18, 19, 20, 21, 22, 23, 24, 25, 26, 27, 28, 30, 31, 32, 33, 34, 35, 36, 38, 39, 41, 42, 44, 45, 46, 47, 48, 49, 50, 51, 52, 54, 55, 56, 57, 58, 59, 60, 61, 62, 63, 66, 67, 68, 69, 70, 74, 75, 76, 77, 78, 79, 81, 82, 83, 84, 85, 88, 89, 91, 92, 93, 94, 95, 96, 97, 99, 100}\n"
     ]
    }
   ],
   "source": [
    "# Your code here\n",
    "#print(set1)\n",
    "set1.pop()\n",
    "print(set1)\n"
   ]
  },
  {
   "cell_type": "markdown",
   "metadata": {},
   "source": [
    "#### 14 -Remove every element in the following list from `set1` if they are present in the set. Print the remaining elements.\n",
    "\n",
    "```\n",
    "list_to_remove = [1, 9, 11, 19, 21, 29, 31, 39, 41, 49, 51, 59, 61, 69, 71, 79, 81, 89, 91, 99]\n",
    "```"
   ]
  },
  {
   "cell_type": "code",
   "execution_count": 258,
   "metadata": {},
   "outputs": [
    {
     "output_type": "stream",
     "name": "stdout",
     "text": [
      "{3, 4, 6, 8, 10, 13, 15, 16, 17, 18, 20, 22, 23, 24, 25, 26, 27, 28, 30, 32, 33, 34, 35, 36, 38, 42, 44, 45, 46, 47, 48, 50, 52, 54, 55, 56, 57, 58, 60, 62, 63, 66, 67, 68, 70, 74, 75, 76, 77, 78, 82, 83, 84, 85, 88, 92, 93, 94, 95, 96, 97, 100}\n"
     ]
    }
   ],
   "source": [
    "# Your code here\n",
    "list_to_remove = [1, 9, 11, 19, 21, 29, 31, 39, 41, 49, 51, 59, 61, 69, 71, 79, 81, 89, 91, 99]\n",
    "\n",
    "def remove_list_from_set(list_in,set2):\n",
    "    #in_set = set(list_in)\n",
    "    out_list = list(set2)\n",
    "    for element in list_in:\n",
    "        if element in out_list:\n",
    "            out_list.remove(element)\n",
    "    return set(out_list)\n",
    "\n",
    "#print(set1)\n",
    "print(remove_list_from_set(list_to_remove,set1))   "
   ]
  },
  {
   "cell_type": "markdown",
   "metadata": {},
   "source": [
    "#### 15 -The objective of this lab is to provide you a overview of manipulating sets in Python and how they can be integrated within a real usecase\n",
    "#### For the exercises below it's strongly advised to quickly check this link: https://docs.python.org/2/library/sets.html#sets.Set\n",
    "#### Imagine you need to create the grocery list for your family! Below you will see a list of items each family member wants. There will be repetitions because this family has the habbit of each time they notice something is missing to write it down. The problem is that they don't really talk to each other and therefore some items in the list are repeated. With the collection of questions below you will see how they solve repetion and create a grocery list with unique elements.\n",
    "\n"
   ]
  },
  {
   "cell_type": "code",
   "execution_count": 259,
   "metadata": {},
   "outputs": [],
   "source": [
    "father_list = ['garlic', 'watermelon', 'toilet paper', 'yogurt', 'onions', 'gums', 'flour', 'cucumber', 'watermelon', 'yogurt', 'garlic']\n",
    "\n",
    "mother_list = []\n",
    "\n",
    "Jo_list = ['blueberries', 'sugar', 'watermelon', 'gums', 'tomatoes', 'yogurt', 'juice', 'milk', 'onions', 'garlic', 'cucumber', 'sugar', 'blueberries', 'gums', 'yogurt']\n",
    "\n",
    "Carlos_list = ['tomatoes', 'water', 'onions', 'blueberries', 'garlic', 'flour', 'cherries', 'tomatoes', 'onions', 'water', 'tomatoes', 'toilet paper']\n",
    "\n",
    "Mattia_list = []\n",
    "\n",
    "\n"
   ]
  },
  {
   "cell_type": "markdown",
   "metadata": {},
   "source": [
    "#### 15.1- As you can see there are items repeated in each list. Creat a sequence of iterable elements with dintinct items that each family member wants. You can do it in two different ways. Assign each one (set) to a variable with the name of the family member (ex: father_set)."
   ]
  },
  {
   "cell_type": "code",
   "execution_count": 260,
   "metadata": {},
   "outputs": [],
   "source": [
    "# Your code here\n",
    "father_set = set(father_list)\n",
    "mother_set = set(mother_list)\n",
    "jo_set = set(Jo_list)\n",
    "carlos_set = set(Carlos_list)\n",
    "mattia_set = set(Mattia_list)"
   ]
  },
  {
   "cell_type": "markdown",
   "metadata": {},
   "source": [
    "#### 15.2- Q: Mattia wants the same items that his brother Carlos and his sister Jo but doesn't want anything they both want.\n",
    "\n",
    "##### Hint: check out the documentation for `x.symmetric_difference(y)`."
   ]
  },
  {
   "cell_type": "code",
   "execution_count": 261,
   "metadata": {},
   "outputs": [
    {
     "output_type": "stream",
     "name": "stdout",
     "text": [
      "Mattia wants:  {'flour', 'cherries', 'watermelon', 'water', 'juice', 'yogurt', 'gums', 'toilet paper', 'milk', 'sugar', 'cucumber'}\n"
     ]
    }
   ],
   "source": [
    "# Your code here\n",
    "both_set = carlos_set.symmetric_difference(jo_set)\n",
    "\n",
    "\"\"\" x.symmetric_difference(y)\n",
    "Return a set that contains all items from both sets, except items that are present in both sets\"\"\"\n",
    "\n",
    "for i in both_set: #não se pode add o set, então tem que se add item by item\n",
    "    mattia_set.add(i)\n",
    "print(\"Mattia wants: \", mattia_set)\n",
    "\n",
    "#mattia_carlos_jo = mattia_set.intersection(carlos_set) + mattia_set.intersection(jo_set)\n",
    "#print(mattia_carlos_jo)"
   ]
  },
  {
   "cell_type": "markdown",
   "metadata": {},
   "source": [
    "#### 15.3- The line of code below  will  generate a list of random elements from a collection of items, with replacement. Run it and from it create a sequence of unique elements and assign it to the variable mother.\n"
   ]
  },
  {
   "cell_type": "code",
   "execution_count": 262,
   "metadata": {},
   "outputs": [
    {
     "output_type": "stream",
     "name": "stdout",
     "text": [
      "['tomatoes', 'bread', 'bread', 'onions', 'chocolate', 'flour', 'blueberries', 'tomatoes', 'garlic', 'flour']\n"
     ]
    }
   ],
   "source": [
    "import random\n",
    "items = ['milk', 'water', 'chocolate', 'blueberries', 'shampoo', 'flour', 'bread', 'sugar', 'watermelon', 'vinegar', 'tomatoes', 'yogurt', 'juice', 'gums', 'onions', 'garlic', 'cucumber', 'mushrooms', 'toilet paper', 'oranges', 'deodorant', 'cherries']\n",
    "\n",
    "mother_list = random.choices(items,k = 10) # https://docs.python.org/3/library/random.html\n",
    "\n",
    "print(mother_list)"
   ]
  },
  {
   "cell_type": "code",
   "execution_count": 263,
   "metadata": {},
   "outputs": [
    {
     "output_type": "stream",
     "name": "stdout",
     "text": [
      "{'flour', 'onions', 'tomatoes', 'garlic', 'chocolate', 'blueberries', 'bread'}\n"
     ]
    }
   ],
   "source": [
    "# Your code here\n",
    "mother_set = set(mother_list)\n",
    "print(mother_set)"
   ]
  },
  {
   "cell_type": "markdown",
   "metadata": {},
   "source": [
    "#### 15.4- Before leaving the house to the grocery store the father found a lot of toilet paper, so the mother decided to remove it from the items needed to be bought. Use the `.discard()` method to remove from each set created before the 'toilet paper'. \n",
    "\n",
    "#### Hint: Try to first create a list contaning the variables of each set created before, then loop through them and remove the unecessary item. \n",
    "\n",
    "##### Note: The`.discard()` method will remove and update the set without the need of reassignment.\n",
    "\n"
   ]
  },
  {
   "cell_type": "code",
   "execution_count": 264,
   "metadata": {},
   "outputs": [],
   "source": [
    "# Your code here\n",
    "\"\"\"\n",
    "The discard() method removes the specified item from the set.\n",
    "\n",
    "This method is different from the remove() method, because the remove() method will raise an error if the specified item does not exist, and the discard() method will not.\n",
    "\"\"\"\n",
    "father_set.discard(\"toilet paper\")\n",
    "mother_set.discard(\"toilet paper\")\n",
    "jo_set.discard(\"toilet paper\")\n",
    "carlos_set.discard(\"toilet paper\")\n",
    "mattia_set.discard(\"toilet paper\")"
   ]
  },
  {
   "cell_type": "markdown",
   "metadata": {},
   "source": [
    "#### 15.5- Create a set with all the groceries needed to be bought for the house (no repetitions)."
   ]
  },
  {
   "cell_type": "code",
   "execution_count": 265,
   "metadata": {},
   "outputs": [
    {
     "output_type": "stream",
     "name": "stdout",
     "text": [
      "{'flour', 'cherries', 'garlic', 'watermelon', 'water', 'milk', 'sugar', 'juice', 'onions', 'tomatoes', 'yogurt', 'gums', 'chocolate', 'blueberries', 'cucumber', 'bread'}\n"
     ]
    }
   ],
   "source": [
    "# Your code here\n",
    "family_set = father_set.union(mother_set, jo_set, carlos_set, mattia_set)\n",
    "print(family_set)\n"
   ]
  },
  {
   "cell_type": "markdown",
   "metadata": {},
   "source": [
    "#### 15.6- The Father said that he could only buy five items this time. So he decided to arbitraly pick wich ones to buy this time.\n",
    "\n",
    "##### Hint: use the `.pop()` method."
   ]
  },
  {
   "cell_type": "code",
   "execution_count": 266,
   "metadata": {},
   "outputs": [
    {
     "output_type": "stream",
     "name": "stdout",
     "text": [
      "{'gums', 'chocolate', 'blueberries', 'cucumber', 'bread'}\n"
     ]
    }
   ],
   "source": [
    "# Your code here\n",
    "numb_items = 5 \n",
    "while len(family_set) > numb_items:\n",
    "    family_set.pop()\n",
    "print(family_set)"
   ]
  },
  {
   "cell_type": "code",
   "execution_count": null,
   "metadata": {},
   "outputs": [],
   "source": []
  }
 ],
 "metadata": {
  "kernelspec": {
   "display_name": "Python 3",
   "language": "python",
   "name": "python3"
  },
  "language_info": {
   "codemirror_mode": {
    "name": "ipython",
    "version": 3
   },
   "file_extension": ".py",
   "mimetype": "text/x-python",
   "name": "python",
   "nbconvert_exporter": "python",
   "pygments_lexer": "ipython3",
   "version": "3.8.3-final"
  }
 },
 "nbformat": 4,
 "nbformat_minor": 2
}